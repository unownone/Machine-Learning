{
 "metadata": {
  "language_info": {
   "codemirror_mode": {
    "name": "ipython",
    "version": 3
   },
   "file_extension": ".py",
   "mimetype": "text/x-python",
   "name": "python",
   "nbconvert_exporter": "python",
   "pygments_lexer": "ipython3",
   "version": "3.9.5"
  },
  "orig_nbformat": 4,
  "kernelspec": {
   "name": "python3",
   "display_name": "Python 3.9.5 64-bit"
  },
  "interpreter": {
   "hash": "a20a28e580a0151ea3c2581529936b24eb0b60772cb225affd8463079d4ed54d"
  }
 },
 "nbformat": 4,
 "nbformat_minor": 2,
 "cells": [
  {
   "cell_type": "code",
   "execution_count": 52,
   "metadata": {},
   "outputs": [],
   "source": [
    "%matplotlib inline\n",
    "\n",
    "import scipy \n",
    "import numpy as np \n",
    "import matplotlib.pyplot as plt \n",
    "import pandas as pd \n",
    "import copy\n",
    "\n",
    "#importing required modules, scipy to do the "
   ]
  },
  {
   "cell_type": "code",
   "execution_count": 77,
   "metadata": {},
   "outputs": [],
   "source": [
    "data = pd.read_csv(\"diabetes-dataset.csv\")\n",
    "#data has been imported \n",
    "#creation of train test and outcome datasets\n",
    "x_train=copy.copy(data)\n",
    "x_train.drop(['Outcome'],axis=1,inplace=True)\n",
    "y_train=copy.copy(data)\n",
    "y_train.drop(['Pregnancies','Glucose','BloodPressure','SkinThickness','Insulin','BMI','DiabetesPedigreeFunction','Age'],axis=1,inplace=True)\n",
    "y_train.to_numpy()\n",
    "x_train.to_numpy()\n",
    "y_train=y_train.T\n",
    "x_train=x_train.T"
   ]
  },
  {
   "cell_type": "code",
   "execution_count": 78,
   "metadata": {},
   "outputs": [
    {
     "output_type": "execute_result",
     "data": {
      "text/plain": [
       "(8, 2000)"
      ]
     },
     "metadata": {},
     "execution_count": 78
    }
   ],
   "source": [
    "#standardising the train dataset\n",
    "x_train=x_train/ x_train.std()\n",
    "x_train.shape"
   ]
  },
  {
   "cell_type": "code",
   "execution_count": 71,
   "metadata": {},
   "outputs": [],
   "source": [
    "#The sigmoid function\n",
    "def sigmoid(z):\n",
    "    return 1/(1+np.exp(-z))"
   ]
  },
  {
   "cell_type": "code",
   "execution_count": 66,
   "metadata": {},
   "outputs": [],
   "source": [
    "#initializer for w and b\n",
    "\n",
    "def init(dim):\n",
    "    return np.zeros(dim,1),0.0"
   ]
  },
  {
   "cell_type": "code",
   "execution_count": 67,
   "metadata": {},
   "outputs": [],
   "source": [
    "#forward and backward propagation\n",
    "\n",
    "def propagate(w,b,X,Y):\n",
    "    #get number of columns\n",
    "    m=X.shape[1]\n",
    "\n",
    "    #computing activation function\n",
    "    A=sigmoid(np.dot(w.T,X)+b)\n",
    "\n",
    "    #computing cost function\n",
    "\n",
    "    cost=- (1/m)*np.sum((Y*np.log(A))+(1-Y)*(1-np.log(A)))\n",
    "\n",
    "    #backward propagation:\n",
    "    dw=(np.dot(X,(A-Y).T))/m\n",
    "    db=np.sum(A-Y)/m \n",
    "\n",
    "    cost=np.squeeze(np.array(cost))\n",
    "\n",
    "    grads = {\n",
    "        \"dw\": dw,\n",
    "        \"db\": db\n",
    "    }\n",
    "    return grads,cost"
   ]
  },
  {
   "cell_type": "code",
   "execution_count": 69,
   "metadata": {},
   "outputs": [],
   "source": [
    "#updating the parameters using gradient descent after each epoch\n",
    "\n",
    "def optimize(w,b,X,Y,num_iter,learn_rate,print_cost=False):\n",
    "    costs=[]\n",
    "    for i in range(num_iter): #number of epochs\n",
    "        grads,cost=propagate(w,b,X,Y)\n",
    "\n",
    "        dw=grads[\"dw\"]\n",
    "        db=grads[\"db\"]\n",
    "\n",
    "        w=w-(learn_rate*dw)\n",
    "        b=b-(learn_rate*db)\n",
    "\n",
    "        if i%100==0:\n",
    "            costs.append(cost) #logging the cost\n",
    "            if print_cost: \n",
    "                print(\"Cost after {} iterations is = {}\".join(i,cost))\n",
    "        \n",
    "    params={\n",
    "        \"w\":w,\n",
    "        \"b\":b\n",
    "    }\n",
    "\n",
    "    grads={\n",
    "        \"dw\":dw,\n",
    "        \"db\":db\n",
    "    }\n",
    "\n",
    "    return params,grads,costs"
   ]
  },
  {
   "cell_type": "code",
   "execution_count": null,
   "metadata": {},
   "outputs": [],
   "source": [
    "#using the created algorithm to predict new algorithms \n",
    "\n",
    "def predict(w,b,X):\n",
    "    m=X.shape[1]\n",
    "    Y_prediction=np.zeros((1,m))\n",
    "    w=w.reshape(X.shape[0],1)"
   ]
  }
 ]
}