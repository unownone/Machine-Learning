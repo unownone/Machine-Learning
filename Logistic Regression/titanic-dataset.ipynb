{
 "cells": [
  {
   "cell_type": "markdown",
   "id": "d71c22c7",
   "metadata": {
    "papermill": {
     "duration": 0.012311,
     "end_time": "2021-08-07T10:39:13.963757",
     "exception": false,
     "start_time": "2021-08-07T10:39:13.951446",
     "status": "completed"
    },
    "tags": []
   },
   "source": []
  },
  {
   "cell_type": "markdown",
   "id": "8e656d20",
   "metadata": {
    "papermill": {
     "duration": 0.010218,
     "end_time": "2021-08-07T10:39:13.984877",
     "exception": false,
     "start_time": "2021-08-07T10:39:13.974659",
     "status": "completed"
    },
    "tags": []
   },
   "source": [
    "**Using basic deep learning for prediction of survival(1/2)**"
   ]
  },
  {
   "cell_type": "code",
   "execution_count": 1,
   "id": "01d00a4c",
   "metadata": {
    "_cell_guid": "b1076dfc-b9ad-4769-8c92-a6c4dae69d19",
    "_uuid": "8f2839f25d086af736a60e9eeb907d3b93b6e0e5",
    "execution": {
     "iopub.execute_input": "2021-08-07T10:39:14.010164Z",
     "iopub.status.busy": "2021-08-07T10:39:14.009030Z",
     "iopub.status.idle": "2021-08-07T10:39:14.946915Z",
     "shell.execute_reply": "2021-08-07T10:39:14.946216Z",
     "shell.execute_reply.started": "2021-08-07T10:38:29.429793Z"
    },
    "papermill": {
     "duration": 0.951665,
     "end_time": "2021-08-07T10:39:14.947082",
     "exception": false,
     "start_time": "2021-08-07T10:39:13.995417",
     "status": "completed"
    },
    "tags": []
   },
   "outputs": [],
   "source": [
    "%matplotlib inline\n",
    "import numpy as np # linear algebra\n",
    "import pandas as pd # data processing, CSV file I/O (e.g. pd.read_csv)\n",
    "import sklearn as skl\n",
    "import matplotlib.pyplot as plt\n",
    "import copy\n",
    "\n"
   ]
  },
  {
   "cell_type": "code",
   "execution_count": 2,
   "id": "0dac96b7",
   "metadata": {
    "execution": {
     "iopub.execute_input": "2021-08-07T10:39:14.973618Z",
     "iopub.status.busy": "2021-08-07T10:39:14.972852Z",
     "iopub.status.idle": "2021-08-07T10:39:15.000679Z",
     "shell.execute_reply": "2021-08-07T10:39:15.000168Z",
     "shell.execute_reply.started": "2021-08-07T10:38:29.439423Z"
    },
    "papermill": {
     "duration": 0.043115,
     "end_time": "2021-08-07T10:39:15.000821",
     "exception": false,
     "start_time": "2021-08-07T10:39:14.957706",
     "status": "completed"
    },
    "tags": []
   },
   "outputs": [],
   "source": [
    "#importing datasets\n",
    "train = pd.read_csv(\"/kaggle/input/titanic/train.csv\")\n",
    "test=pd.read_csv(\"/kaggle/input/titanic/test.csv\")"
   ]
  },
  {
   "cell_type": "code",
   "execution_count": 3,
   "id": "5dc71c74",
   "metadata": {
    "execution": {
     "iopub.execute_input": "2021-08-07T10:39:15.039541Z",
     "iopub.status.busy": "2021-08-07T10:39:15.028047Z",
     "iopub.status.idle": "2021-08-07T10:39:15.042671Z",
     "shell.execute_reply": "2021-08-07T10:39:15.042198Z",
     "shell.execute_reply.started": "2021-08-07T10:38:29.470934Z"
    },
    "papermill": {
     "duration": 0.031181,
     "end_time": "2021-08-07T10:39:15.042802",
     "exception": false,
     "start_time": "2021-08-07T10:39:15.011621",
     "status": "completed"
    },
    "tags": []
   },
   "outputs": [],
   "source": [
    "#data cleaning\n",
    "#name set to refer to the passenger when required\n",
    "nameset = train.copy()\n",
    "dropp=['Survived',\n",
    "       'Pclass',\n",
    "       'Sex',\n",
    "       'Age',\n",
    "       'SibSp',\n",
    "       'Parch',\n",
    "       'Ticket',\n",
    "       'Fare',\n",
    "       'Cabin',\n",
    "       'Embarked'\n",
    "]\n",
    "dropp2=[\n",
    "        'Name',\n",
    "        'Cabin',\n",
    "        'Ticket'\n",
    "]\n",
    "nameset.drop(dropp,inplace=True,axis=1)\n",
    "train.drop(dropp2,inplace=True,axis=1)\n",
    "test.drop(dropp2,inplace=True,axis=1)"
   ]
  },
  {
   "cell_type": "code",
   "execution_count": 4,
   "id": "24a498aa",
   "metadata": {
    "execution": {
     "iopub.execute_input": "2021-08-07T10:39:15.081139Z",
     "iopub.status.busy": "2021-08-07T10:39:15.080460Z",
     "iopub.status.idle": "2021-08-07T10:39:15.082851Z",
     "shell.execute_reply": "2021-08-07T10:39:15.082256Z",
     "shell.execute_reply.started": "2021-08-07T10:38:29.482890Z"
    },
    "papermill": {
     "duration": 0.02945,
     "end_time": "2021-08-07T10:39:15.082991",
     "exception": false,
     "start_time": "2021-08-07T10:39:15.053541",
     "status": "completed"
    },
    "tags": []
   },
   "outputs": [],
   "source": [
    "#part 2 of data cleaning: removing nan values and replacing text values with numbers\n",
    "train[\"Sex\"].replace('male',1,inplace=True)\n",
    "train['Sex'].replace('female',0,inplace=True)\n",
    "test['Sex'].replace('male',1,inplace=True)\n",
    "test['Sex'].replace('female',0,inplace=True)\n",
    "train['Embarked'].replace('Q',0,inplace=True)\n",
    "train['Embarked'].replace('C',2,inplace=True)\n",
    "train['Embarked'].replace('S',1,inplace=True)\n",
    "test['Embarked'].replace('Q',0,inplace=True)\n",
    "test['Embarked'].replace('C',2,inplace=True)\n",
    "test['Embarked'].replace('S',1,inplace=True)"
   ]
  },
  {
   "cell_type": "code",
   "execution_count": 5,
   "id": "18765dee",
   "metadata": {
    "execution": {
     "iopub.execute_input": "2021-08-07T10:39:15.107387Z",
     "iopub.status.busy": "2021-08-07T10:39:15.106697Z",
     "iopub.status.idle": "2021-08-07T10:39:15.116187Z",
     "shell.execute_reply": "2021-08-07T10:39:15.116644Z",
     "shell.execute_reply.started": "2021-08-07T10:38:29.501363Z"
    },
    "papermill": {
     "duration": 0.023084,
     "end_time": "2021-08-07T10:39:15.116818",
     "exception": false,
     "start_time": "2021-08-07T10:39:15.093734",
     "status": "completed"
    },
    "tags": []
   },
   "outputs": [],
   "source": [
    "train.fillna(train.mean(),inplace=True)\n",
    "test.fillna(test.mean(),inplace=True)"
   ]
  },
  {
   "cell_type": "code",
   "execution_count": 6,
   "id": "fd1e745b",
   "metadata": {
    "execution": {
     "iopub.execute_input": "2021-08-07T10:39:15.141362Z",
     "iopub.status.busy": "2021-08-07T10:39:15.140732Z",
     "iopub.status.idle": "2021-08-07T10:39:15.227963Z",
     "shell.execute_reply": "2021-08-07T10:39:15.227366Z",
     "shell.execute_reply.started": "2021-08-07T10:38:29.521504Z"
    },
    "papermill": {
     "duration": 0.100331,
     "end_time": "2021-08-07T10:39:15.228118",
     "exception": false,
     "start_time": "2021-08-07T10:39:15.127787",
     "status": "completed"
    },
    "tags": []
   },
   "outputs": [],
   "source": [
    "#set splitting\n",
    "from sklearn.model_selection import train_test_split\n",
    "x=train.iloc[:,2:]\n",
    "y=train.iloc[:,1:2]\n",
    "test_id=test.copy()\n",
    "test.drop(['PassengerId'],inplace=True,axis=1)\n",
    "x_train,x_test,y_train,y_test=train_test_split(x,y,test_size=0.20)"
   ]
  },
  {
   "cell_type": "code",
   "execution_count": 7,
   "id": "c1913ea2",
   "metadata": {
    "execution": {
     "iopub.execute_input": "2021-08-07T10:39:15.254797Z",
     "iopub.status.busy": "2021-08-07T10:39:15.254188Z",
     "iopub.status.idle": "2021-08-07T10:39:15.822474Z",
     "shell.execute_reply": "2021-08-07T10:39:15.822979Z",
     "shell.execute_reply.started": "2021-08-07T10:38:29.533230Z"
    },
    "papermill": {
     "duration": 0.584394,
     "end_time": "2021-08-07T10:39:15.823150",
     "exception": false,
     "start_time": "2021-08-07T10:39:15.238756",
     "status": "completed"
    },
    "tags": []
   },
   "outputs": [
    {
     "name": "stderr",
     "output_type": "stream",
     "text": [
      "/opt/conda/lib/python3.7/site-packages/sklearn/neural_network/_multilayer_perceptron.py:585: ConvergenceWarning: Stochastic Optimizer: Maximum iterations (200) reached and the optimization hasn't converged yet.\n",
      "  % self.max_iter, ConvergenceWarning)\n"
     ]
    },
    {
     "data": {
      "text/plain": [
       "MLPClassifier(activation='tanh', alpha=0.02, hidden_layer_sizes=(4, 2),\n",
       "              solver='sgd')"
      ]
     },
     "execution_count": 7,
     "metadata": {},
     "output_type": "execute_result"
    }
   ],
   "source": [
    "#using scikitlearn\n",
    "from sklearn.neural_network import MLPClassifier\n",
    "clf=MLPClassifier(solver=\"sgd\",alpha=0.02,activation='tanh',hidden_layer_sizes=(4,2),random_state=None)\n",
    "clf.fit(x_train,y_train.values.ravel())\n",
    "#used MLPCLASSIFIER for a MLP model with 50 hidden layers\n",
    "#used SGD or stochastic Gradient desecnt for optimisation function\n",
    "#learning rate is constant and has a initial rate of 0.001\n"
   ]
  },
  {
   "cell_type": "code",
   "execution_count": 8,
   "id": "c308301e",
   "metadata": {
    "execution": {
     "iopub.execute_input": "2021-08-07T10:39:15.863255Z",
     "iopub.status.busy": "2021-08-07T10:39:15.862301Z",
     "iopub.status.idle": "2021-08-07T10:39:15.869769Z",
     "shell.execute_reply": "2021-08-07T10:39:15.868776Z",
     "shell.execute_reply.started": "2021-08-07T10:38:29.995062Z"
    },
    "papermill": {
     "duration": 0.030032,
     "end_time": "2021-08-07T10:39:15.870010",
     "exception": false,
     "start_time": "2021-08-07T10:39:15.839978",
     "status": "completed"
    },
    "tags": []
   },
   "outputs": [
    {
     "name": "stdout",
     "output_type": "stream",
     "text": [
      "(179, 7) (418, 7)\n",
      "61.452513966480446%\n"
     ]
    }
   ],
   "source": [
    "#fitting /training is done , now predicting\n",
    "print(x_test.shape,test.shape)\n",
    "prediction=clf.predict(x_test)\n",
    "#prediction score\n",
    "\n",
    "accuracy = skl.metrics.accuracy_score(y_test, prediction)*100\n",
    "print(accuracy,\"%\",sep=\"\")"
   ]
  },
  {
   "cell_type": "code",
   "execution_count": 9,
   "id": "e1b0d0b2",
   "metadata": {
    "execution": {
     "iopub.execute_input": "2021-08-07T10:39:15.904556Z",
     "iopub.status.busy": "2021-08-07T10:39:15.903819Z",
     "iopub.status.idle": "2021-08-07T10:39:15.907001Z",
     "shell.execute_reply": "2021-08-07T10:39:15.906359Z",
     "shell.execute_reply.started": "2021-08-07T10:38:30.006237Z"
    },
    "papermill": {
     "duration": 0.019218,
     "end_time": "2021-08-07T10:39:15.907142",
     "exception": false,
     "start_time": "2021-08-07T10:39:15.887924",
     "status": "completed"
    },
    "tags": []
   },
   "outputs": [],
   "source": [
    "# gender_submission=clf.predict(test)\n",
    "# print(test_id.head())\n",
    "# data={\n",
    "#     'PassengerId':test_id['PassengerId'],\n",
    "#     'Survived':gender_submission\n",
    "# }\n",
    "# data=pd.DataFrame(data)\n",
    "# data.to_csv('gender_subm.csv',index=False)"
   ]
  },
  {
   "cell_type": "markdown",
   "id": "a36ec96a",
   "metadata": {
    "papermill": {
     "duration": 0.011851,
     "end_time": "2021-08-07T10:39:15.931383",
     "exception": false,
     "start_time": "2021-08-07T10:39:15.919532",
     "status": "completed"
    },
    "tags": []
   },
   "source": [
    "**USING NAIVE BAYES TO SOLVE THE SAME PROBLEM**"
   ]
  },
  {
   "cell_type": "code",
   "execution_count": 10,
   "id": "eb71c0ae",
   "metadata": {
    "execution": {
     "iopub.execute_input": "2021-08-07T10:39:15.960739Z",
     "iopub.status.busy": "2021-08-07T10:39:15.960076Z",
     "iopub.status.idle": "2021-08-07T10:39:15.974774Z",
     "shell.execute_reply": "2021-08-07T10:39:15.974225Z",
     "shell.execute_reply.started": "2021-08-07T10:38:30.020312Z"
    },
    "papermill": {
     "duration": 0.031957,
     "end_time": "2021-08-07T10:39:15.974960",
     "exception": false,
     "start_time": "2021-08-07T10:39:15.943003",
     "status": "completed"
    },
    "tags": []
   },
   "outputs": [],
   "source": [
    "from sklearn.naive_bayes import GaussianNB\n",
    "gnb=GaussianNB()\n",
    "model=gnb.fit(x_train,y_train.values.ravel())\n",
    "pred=model.predict(test)\n",
    "data={\n",
    "    'PassengerId':test_id['PassengerId'],\n",
    "    'Survived':pred\n",
    "}\n",
    "\n",
    "data=pd.DataFrame(data)\n",
    "data.to_csv('gender_nb.csv',index=False)"
   ]
  }
 ],
 "metadata": {
  "kernelspec": {
   "display_name": "Python 3",
   "language": "python",
   "name": "python3"
  },
  "language_info": {
   "codemirror_mode": {
    "name": "ipython",
    "version": 3
   },
   "file_extension": ".py",
   "mimetype": "text/x-python",
   "name": "python",
   "nbconvert_exporter": "python",
   "pygments_lexer": "ipython3",
   "version": "3.7.10"
  },
  "papermill": {
   "default_parameters": {},
   "duration": 11.708277,
   "end_time": "2021-08-07T10:39:17.414479",
   "environment_variables": {},
   "exception": null,
   "input_path": "__notebook__.ipynb",
   "output_path": "__notebook__.ipynb",
   "parameters": {},
   "start_time": "2021-08-07T10:39:05.706202",
   "version": "2.3.3"
  }
 },
 "nbformat": 4,
 "nbformat_minor": 5
}
